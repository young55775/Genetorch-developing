{
 "cells": [
  {
   "cell_type": "code",
   "execution_count": 36,
   "metadata": {
    "collapsed": true
   },
   "outputs": [],
   "source": [
    "import pandas as pd\n",
    "import genetorch as gt"
   ]
  },
  {
   "cell_type": "code",
   "execution_count": 38,
   "outputs": [
    {
     "name": "stdout",
     "output_type": "stream",
     "text": [
      "                                                 sample  size      gene  \\\n",
      "0     [cas10159, cas10489, cas10480, cas12100, cas10...   186     cla-1   \n",
      "1     [cas10159, cas10489, cas10480, cas12100, cas10...   186  F57A10.2   \n",
      "2     [cas10159, cas10489, cas10480, cas12100, cas10...   186  Y16B4A.2   \n",
      "3     [cas10159, cas10489, cas10480, cas12100, cas10...   186     gap-1   \n",
      "4     [cas10159, cas10489, cas10480, cas12100, cas10...   186     ttn-1   \n",
      "...                                                 ...   ...       ...   \n",
      "6893                                         [cas12098]     1  C17H11.5   \n",
      "6894                                         [cas10184]     1     rnp-3   \n",
      "6895                                         [cas12069]     1    vps-36   \n",
      "6896                                         [cas10448]     1   tag-280   \n",
      "6897                                         [cas10448]     1     pdl-1   \n",
      "\n",
      "                                              variation  variation_number  \n",
      "0     {'p.Glu648Asp': 96, 'p.Val1075Ile': 148, 'p.Th...                25  \n",
      "1                      {'p.Ser77*': 186, 'p.Arg60*': 1}                 2  \n",
      "2     {'p.Pro1071fs': 174, 'p.Gln1068fs': 173, 'p.Gl...                11  \n",
      "3                 {'p.Cys10Arg': 186, 'p.Glu108Lys': 1}                 2  \n",
      "4     {'p.Asp6168Glu': 14, 'p.Val5245Lys': 18, 'p.Il...                60  \n",
      "...                                                 ...               ...  \n",
      "6893                                 {'p.Tyr105Asn': 1}                 1  \n",
      "6894                                 {'p.Pro151Ser': 1}                 1  \n",
      "6895                                  {'p.Gly24Glu': 1}                 1  \n",
      "6896                                 {'p.Ala122Thr': 1}                 1  \n",
      "6897                                 {'p.Met126Ile': 1}                 1  \n",
      "\n",
      "[6898 rows x 5 columns]\n"
     ]
    },
    {
     "data": {
      "text/plain": "                                                 sample  size      gene  \\\n0     [cas10159, cas10489, cas10480, cas12100, cas10...   186     cla-1   \n1     [cas10159, cas10489, cas10480, cas12100, cas10...   186  F57A10.2   \n2     [cas10159, cas10489, cas10480, cas12100, cas10...   186  Y16B4A.2   \n3     [cas10159, cas10489, cas10480, cas12100, cas10...   186     gap-1   \n4     [cas10159, cas10489, cas10480, cas12100, cas10...   186     ttn-1   \n...                                                 ...   ...       ...   \n6893                                         [cas12098]     1  C17H11.5   \n6894                                         [cas10184]     1     rnp-3   \n6895                                         [cas12069]     1    vps-36   \n6896                                         [cas10448]     1   tag-280   \n6897                                         [cas10448]     1     pdl-1   \n\n                                              variation  variation_number  \n0     {'p.Glu648Asp': 96, 'p.Val1075Ile': 148, 'p.Th...                25  \n1                      {'p.Ser77*': 186, 'p.Arg60*': 1}                 2  \n2     {'p.Pro1071fs': 174, 'p.Gln1068fs': 173, 'p.Gl...                11  \n3                 {'p.Cys10Arg': 186, 'p.Glu108Lys': 1}                 2  \n4     {'p.Asp6168Glu': 14, 'p.Val5245Lys': 18, 'p.Il...                60  \n...                                                 ...               ...  \n6893                                 {'p.Tyr105Asn': 1}                 1  \n6894                                 {'p.Pro151Ser': 1}                 1  \n6895                                  {'p.Gly24Glu': 1}                 1  \n6896                                 {'p.Ala122Thr': 1}                 1  \n6897                                 {'p.Met126Ile': 1}                 1  \n\n[6898 rows x 5 columns]",
      "text/html": "<div>\n<style scoped>\n    .dataframe tbody tr th:only-of-type {\n        vertical-align: middle;\n    }\n\n    .dataframe tbody tr th {\n        vertical-align: top;\n    }\n\n    .dataframe thead th {\n        text-align: right;\n    }\n</style>\n<table border=\"1\" class=\"dataframe\">\n  <thead>\n    <tr style=\"text-align: right;\">\n      <th></th>\n      <th>sample</th>\n      <th>size</th>\n      <th>gene</th>\n      <th>variation</th>\n      <th>variation_number</th>\n    </tr>\n  </thead>\n  <tbody>\n    <tr>\n      <th>0</th>\n      <td>[cas10159, cas10489, cas10480, cas12100, cas10...</td>\n      <td>186</td>\n      <td>cla-1</td>\n      <td>{'p.Glu648Asp': 96, 'p.Val1075Ile': 148, 'p.Th...</td>\n      <td>25</td>\n    </tr>\n    <tr>\n      <th>1</th>\n      <td>[cas10159, cas10489, cas10480, cas12100, cas10...</td>\n      <td>186</td>\n      <td>F57A10.2</td>\n      <td>{'p.Ser77*': 186, 'p.Arg60*': 1}</td>\n      <td>2</td>\n    </tr>\n    <tr>\n      <th>2</th>\n      <td>[cas10159, cas10489, cas10480, cas12100, cas10...</td>\n      <td>186</td>\n      <td>Y16B4A.2</td>\n      <td>{'p.Pro1071fs': 174, 'p.Gln1068fs': 173, 'p.Gl...</td>\n      <td>11</td>\n    </tr>\n    <tr>\n      <th>3</th>\n      <td>[cas10159, cas10489, cas10480, cas12100, cas10...</td>\n      <td>186</td>\n      <td>gap-1</td>\n      <td>{'p.Cys10Arg': 186, 'p.Glu108Lys': 1}</td>\n      <td>2</td>\n    </tr>\n    <tr>\n      <th>4</th>\n      <td>[cas10159, cas10489, cas10480, cas12100, cas10...</td>\n      <td>186</td>\n      <td>ttn-1</td>\n      <td>{'p.Asp6168Glu': 14, 'p.Val5245Lys': 18, 'p.Il...</td>\n      <td>60</td>\n    </tr>\n    <tr>\n      <th>...</th>\n      <td>...</td>\n      <td>...</td>\n      <td>...</td>\n      <td>...</td>\n      <td>...</td>\n    </tr>\n    <tr>\n      <th>6893</th>\n      <td>[cas12098]</td>\n      <td>1</td>\n      <td>C17H11.5</td>\n      <td>{'p.Tyr105Asn': 1}</td>\n      <td>1</td>\n    </tr>\n    <tr>\n      <th>6894</th>\n      <td>[cas10184]</td>\n      <td>1</td>\n      <td>rnp-3</td>\n      <td>{'p.Pro151Ser': 1}</td>\n      <td>1</td>\n    </tr>\n    <tr>\n      <th>6895</th>\n      <td>[cas12069]</td>\n      <td>1</td>\n      <td>vps-36</td>\n      <td>{'p.Gly24Glu': 1}</td>\n      <td>1</td>\n    </tr>\n    <tr>\n      <th>6896</th>\n      <td>[cas10448]</td>\n      <td>1</td>\n      <td>tag-280</td>\n      <td>{'p.Ala122Thr': 1}</td>\n      <td>1</td>\n    </tr>\n    <tr>\n      <th>6897</th>\n      <td>[cas10448]</td>\n      <td>1</td>\n      <td>pdl-1</td>\n      <td>{'p.Met126Ile': 1}</td>\n      <td>1</td>\n    </tr>\n  </tbody>\n</table>\n<p>6898 rows × 5 columns</p>\n</div>"
     },
     "execution_count": 37,
     "metadata": {},
     "output_type": "execute_result"
    },
    {
     "name": "stdout",
     "output_type": "stream",
     "text": [
      "                                                 sample  size      gene  \\\n",
      "0     [cas10159, cas10489, cas10480, cas12100, cas10...   186     cla-1   \n",
      "1     [cas10159, cas10489, cas10480, cas12100, cas10...   186  F57A10.2   \n",
      "2     [cas10159, cas10489, cas10480, cas12100, cas10...   186  Y16B4A.2   \n",
      "3     [cas10159, cas10489, cas10480, cas12100, cas10...   186     gap-1   \n",
      "4     [cas10159, cas10489, cas10480, cas12100, cas10...   186     ttn-1   \n",
      "...                                                 ...   ...       ...   \n",
      "6893                                         [cas12098]     1  C17H11.5   \n",
      "6894                                         [cas10184]     1     rnp-3   \n",
      "6895                                         [cas12069]     1    vps-36   \n",
      "6896                                         [cas10448]     1   tag-280   \n",
      "6897                                         [cas10448]     1     pdl-1   \n",
      "\n",
      "                                              variation  variation_number  \n",
      "0     {'p.Glu648Asp': 96, 'p.Val1075Ile': 148, 'p.Th...                25  \n",
      "1                      {'p.Ser77*': 186, 'p.Arg60*': 1}                 2  \n",
      "2     {'p.Pro1071fs': 174, 'p.Gln1068fs': 173, 'p.Gl...                11  \n",
      "3                 {'p.Cys10Arg': 186, 'p.Glu108Lys': 1}                 2  \n",
      "4     {'p.Asp6168Glu': 14, 'p.Val5245Lys': 18, 'p.Il...                60  \n",
      "...                                                 ...               ...  \n",
      "6893                                 {'p.Tyr105Asn': 1}                 1  \n",
      "6894                                 {'p.Pro151Ser': 1}                 1  \n",
      "6895                                  {'p.Gly24Glu': 1}                 1  \n",
      "6896                                 {'p.Ala122Thr': 1}                 1  \n",
      "6897                                 {'p.Met126Ile': 1}                 1  \n",
      "\n",
      "[6898 rows x 5 columns]\n"
     ]
    },
    {
     "data": {
      "text/plain": "<Figure size 640x480 with 1 Axes>",
      "image/png": "[encoded data removed]"
     },
     "metadata": {},
     "output_type": "display_data"
    }
   ],
   "source": [
    "dpy = gt.reader.readfile(r\"E:\\石双星\\dumpy\")\n",
    "gt.finder.find(dpy)\n",
    "gt.pcluster.cluster(\"genetorch\\\\protein\\\\unc-104.apf\",dpy.result,'dpy-1')\n"
   ],
   "metadata": {
    "collapsed": false
   }
  },
  {
   "cell_type": "code",
   "execution_count": 30,
   "outputs": [],
   "source": [
    "model = pd.read_csv('genetorch\\\\protein\\\\unc-104.apf')\n",
    "num_lst = ['4','9']\n",
    "lst = ','.join(num_lst)\n",
    "q = \"num in [{}]\".format(lst)\n",
    "q = model.query(q)"
   ],
   "metadata": {
    "collapsed": false
   }
  },
  {
   "cell_type": "code",
   "execution_count": 35,
   "outputs": [
    {
     "data": {
      "text/plain": "              x          y          z\naa                                   \nVAL4  28.592143 -11.756000  -1.274571\nARG9  36.321273  -5.305909 -15.229000",
      "text/html": "<div>\n<style scoped>\n    .dataframe tbody tr th:only-of-type {\n        vertical-align: middle;\n    }\n\n    .dataframe tbody tr th {\n        vertical-align: top;\n    }\n\n    .dataframe thead th {\n        text-align: right;\n    }\n</style>\n<table border=\"1\" class=\"dataframe\">\n  <thead>\n    <tr style=\"text-align: right;\">\n      <th></th>\n      <th>x</th>\n      <th>y</th>\n      <th>z</th>\n    </tr>\n    <tr>\n      <th>aa</th>\n      <th></th>\n      <th></th>\n      <th></th>\n    </tr>\n  </thead>\n  <tbody>\n    <tr>\n      <th>VAL4</th>\n      <td>28.592143</td>\n      <td>-11.756000</td>\n      <td>-1.274571</td>\n    </tr>\n    <tr>\n      <th>ARG9</th>\n      <td>36.321273</td>\n      <td>-5.305909</td>\n      <td>-15.229000</td>\n    </tr>\n  </tbody>\n</table>\n</div>"
     },
     "execution_count": 35,
     "metadata": {},
     "output_type": "execute_result"
    }
   ],
   "source": [
    "q.iloc[:,1:].set_index('aa')"
   ],
   "metadata": {
    "collapsed": false
   }
  },
  {
   "cell_type": "code",
   "execution_count": null,
   "outputs": [],
   "source": [],
   "metadata": {
    "collapsed": false
   }
  }
 ],
 "metadata": {
  "kernelspec": {
   "display_name": "Python 3",
   "language": "python",
   "name": "python3"
  },
  "language_info": {
   "codemirror_mode": {
    "name": "ipython",
    "version": 2
   },
   "file_extension": ".py",
   "mimetype": "text/x-python",
   "name": "python",
   "nbconvert_exporter": "python",
   "pygments_lexer": "ipython2",
   "version": "2.7.6"
  }
 },
 "nbformat": 4,
 "nbformat_minor": 0
}
